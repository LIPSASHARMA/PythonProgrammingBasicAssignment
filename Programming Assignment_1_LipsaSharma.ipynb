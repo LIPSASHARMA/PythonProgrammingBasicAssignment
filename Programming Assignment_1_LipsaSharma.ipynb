{
 "cells": [
  {
   "cell_type": "markdown",
   "metadata": {},
   "source": [
    "### 1.\tWrite a Python program to print \"Hello Python\"?"
   ]
  },
  {
   "cell_type": "code",
   "execution_count": 3,
   "metadata": {},
   "outputs": [
    {
     "name": "stdout",
     "output_type": "stream",
     "text": [
      "Hello Python\n"
     ]
    }
   ],
   "source": [
    "print(\"Hello Python\")"
   ]
  },
  {
   "cell_type": "markdown",
   "metadata": {},
   "source": [
    "### 2.\tWrite a Python program to do arithmetical operations addition and division.?"
   ]
  },
  {
   "cell_type": "code",
   "execution_count": 24,
   "metadata": {},
   "outputs": [
    {
     "name": "stdout",
     "output_type": "stream",
     "text": [
      "The sum of number1 and number2 is: 50\n",
      "The division of number3 and number 4 results: 4.728971962616823\n"
     ]
    }
   ],
   "source": [
    "##Addition\n",
    "number1 = 20\n",
    "number2 = 30\n",
    "add = number1 + number2\n",
    "print(\"The sum of number1 and number2 is: \"+ str(add))\n",
    "\n",
    "##Division\n",
    "number3 = float(50.6)\n",
    "number4 = float(10.7)\n",
    "divide = number3/number4\n",
    "print(\"The division of number3 and number 4 results: \"+ str(divide))"
   ]
  },
  {
   "cell_type": "markdown",
   "metadata": {},
   "source": [
    "### 3.\tWrite a Python program to find the area of a triangle?"
   ]
  },
  {
   "cell_type": "code",
   "execution_count": 26,
   "metadata": {},
   "outputs": [
    {
     "name": "stdout",
     "output_type": "stream",
     "text": [
      "First side: 49.3\n",
      "Second side: 22.1\n",
      "Third side: 36.6\n",
      "The area of the triangle is 375.33\n"
     ]
    }
   ],
   "source": [
    "\n",
    "## Three sides of the triangle is a, b and c respectively:  \n",
    "a = float(input(\"First side: \"))  \n",
    "b = float(input(\"Second side: \"))  \n",
    "c = float(input(\"Third side: \"))  \n",
    "  \n",
    "## semi-perimeter  \n",
    "s = (a + b + c) / 2  \n",
    "  \n",
    "## calculate the area of the triange  \n",
    "area = (s*(s-a)*(s-b)*(s-c)) ** 0.5  \n",
    "print('The area of the triangle is %0.2f' %area)  "
   ]
  },
  {
   "cell_type": "markdown",
   "metadata": {},
   "source": [
    "### 4.\tWrite a Python program to swap two variables?"
   ]
  },
  {
   "cell_type": "code",
   "execution_count": 28,
   "metadata": {
    "scrolled": true
   },
   "outputs": [
    {
     "name": "stdout",
     "output_type": "stream",
     "text": [
      "Value of a: 8\n",
      "Value of b: 7\n"
     ]
    }
   ],
   "source": [
    "a = 7\n",
    "b = 8  \n",
    "temp = a\n",
    "a = b\n",
    "b = temp\n",
    "  \n",
    "print(\"Value of a:\", a)\n",
    "print(\"Value of b:\", b)"
   ]
  },
  {
   "cell_type": "markdown",
   "metadata": {},
   "source": [
    "### 5.\tWrite a Python program to generate a random number?"
   ]
  },
  {
   "cell_type": "code",
   "execution_count": 36,
   "metadata": {},
   "outputs": [
    {
     "name": "stdout",
     "output_type": "stream",
     "text": [
      "26\n"
     ]
    }
   ],
   "source": [
    "\n",
    "import random\n",
    "print(random.randint(0,50))"
   ]
  },
  {
   "cell_type": "code",
   "execution_count": null,
   "metadata": {},
   "outputs": [],
   "source": []
  }
 ],
 "metadata": {
  "kernelspec": {
   "display_name": "Python 3",
   "language": "python",
   "name": "python3"
  },
  "language_info": {
   "codemirror_mode": {
    "name": "ipython",
    "version": 3
   },
   "file_extension": ".py",
   "mimetype": "text/x-python",
   "name": "python",
   "nbconvert_exporter": "python",
   "pygments_lexer": "ipython3",
   "version": "3.8.5"
  }
 },
 "nbformat": 4,
 "nbformat_minor": 4
}
